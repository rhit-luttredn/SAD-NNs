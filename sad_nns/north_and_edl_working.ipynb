{
 "cells": [
  {
   "cell_type": "code",
   "execution_count": 2,
   "metadata": {},
   "outputs": [],
   "source": [
    "import torch\n",
    "from torch.functional import F\n",
    "\n",
    "device = torch.device(\"cuda\" if torch.cuda.is_available() else \"cpu\")"
   ]
  },
  {
   "cell_type": "code",
   "execution_count": 7,
   "metadata": {},
   "outputs": [],
   "source": [
    "import copy\n",
    "import numpy as np\n",
    "from torchvision import datasets, transforms\n",
    "import matplotlib.pyplot as plt\n",
    "\n",
    "from sad_nns.uncertainty import *\n",
    "from neurops import *"
   ]
  },
  {
   "cell_type": "markdown",
   "metadata": {},
   "source": [
    "**NORTH:** Define a LeNet-style model. \n",
    "\n",
    "Use the `ModSequential` class to wrap the `ModConv2d` and `ModLinear` model, which allows us to mask, prune, and grow the model. \n",
    "\n",
    "Use the `track_activations` and `track_auxiliary_gradients` arguments to enable the tracking of activations and auxiliary gradients later. \n",
    "\n",
    "By adding the `input_shape` of the data, we can compute the conversion factor of how many input neurons to add to the first linear layer when a new output channel is added to the final convolutional layer. "
   ]
  },
  {
   "cell_type": "code",
   "execution_count": 4,
   "metadata": {},
   "outputs": [
    {
     "data": {
      "text/plain": [
       "<torch._C.Generator at 0x7ff3df7f6c70>"
      ]
     },
     "execution_count": 4,
     "metadata": {},
     "output_type": "execute_result"
    }
   ],
   "source": [
    "# set seed\n",
    "torch.manual_seed(0)"
   ]
  },
  {
   "cell_type": "code",
   "execution_count": 8,
   "metadata": {},
   "outputs": [],
   "source": [
    "model = ModSequential(\n",
    "        ModConv2d(in_channels=1, out_channels=8, kernel_size=7, masked=True, padding=1, learnable_mask=True),\n",
    "        ModConv2d(in_channels=8, out_channels=16, kernel_size=7, masked=True, padding=1, prebatchnorm=True, learnable_mask=True),\n",
    "        ModConv2d(in_channels=16, out_channels=16, kernel_size=5, masked=True, prebatchnorm=True, learnable_mask=True),\n",
    "        ModLinear(64, 32, masked=True, prebatchnorm=True, learnable_mask=True),\n",
    "        ModLinear(32, 10, masked=True, prebatchnorm=True, nonlinearity=\"\"),\n",
    "        track_activations=True,\n",
    "        track_auxiliary_gradients=True,\n",
    "        input_shape = (1, 14, 14)\n",
    "    ).to(device)\n",
    "torch.compile(model)\n",
    "optimizer = torch.optim.SGD(model.parameters(), lr=0.01)\n",
    "\n",
    "# Add EDL Loss Function\n",
    "# KLDivergenceLoss, MaximumLikelihoodLoss, CrossEntropyBayesRisk, SquaredErrorBayesRisk\n",
    "criterion = SquaredErrorBayesRisk()\n",
    "kl_divergence = KLDivergenceLoss()"
   ]
  },
  {
   "cell_type": "markdown",
   "metadata": {},
   "source": [
    "**NORTH:** Get a dataset and define standard training and testing functions."
   ]
  },
  {
   "cell_type": "code",
   "execution_count": 30,
   "metadata": {},
   "outputs": [],
   "source": [
    "dataset = datasets.MNIST('../data', train=True, download=True,\n",
    "                     transform=transforms.Compose([ \n",
    "                            transforms.ToTensor(),\n",
    "                            transforms.Normalize((0.1307,), (0.3081,)),\n",
    "                            transforms.Resize((14,14))\n",
    "                        ]))\n",
    "train_set, val_set = torch.utils.data.random_split(dataset, lengths=[int(0.9*len(dataset)), int(0.1*len(dataset))])\n",
    "train_loader = torch.utils.data.DataLoader(train_set, batch_size=128, shuffle=True)\n",
    "val_loader = torch.utils.data.DataLoader(val_set, batch_size=128, shuffle=True)\n",
    "\n",
    "test_loader = torch.utils.data.DataLoader(\n",
    "    datasets.MNIST('../data', train=False, transform=transforms.Compose([\n",
    "                            transforms.ToTensor(),\n",
    "                            transforms.Normalize((0.1307,), (0.3081,)),\n",
    "                            transforms.Resize((14,14))\n",
    "                        ])),\n",
    "    batch_size=128, shuffle=True)\n",
    "\n",
    "def train(model, train_loader, optimizer, criterion, epochs=10, num_classes=10, val_loader=None, verbose=True):\n",
    "    model.train()\n",
    "\n",
    "    train_acc_vals = []\n",
    "    train_u_vals = []\n",
    "    test_acc_vals = []\n",
    "    test_u_vals = []\n",
    "\n",
    "    for epoch in range(epochs):\n",
    "        correct = 0\n",
    "        for batch_idx, (data, target) in enumerate(train_loader):\n",
    "\n",
    "            data, target = data.to(device), target.to(device)\n",
    "            one_hot_target = F.one_hot(target, num_classes=num_classes)\n",
    "            optimizer.zero_grad()\n",
    "            output = model(data)\n",
    "            \n",
    "            pred = output.argmax(dim=1, keepdim=True) # get the index of the max log-probability\n",
    "            correct += pred.eq(target.view_as(pred)).sum().item()\n",
    "\n",
    "            # calculate uncertainty\n",
    "            evidence = F.relu(output)\n",
    "            alpha = evidence + 1\n",
    "            u = num_classes / torch.sum(alpha, dim=1, keepdim=True)\n",
    "\n",
    "            loss = criterion(evidence, one_hot_target)\n",
    "\n",
    "            # calculate KL Divergence\n",
    "            kl_div_loss = kl_divergence(evidence, one_hot_target)\n",
    "            annealing_step = 10\n",
    "            annealing_coef = torch.min(\n",
    "                torch.tensor(1.0, dtype=torch.float32),\n",
    "                torch.tensor(epoch / annealing_step, dtype=torch.float32),\n",
    "            )\n",
    "            \n",
    "            loss = loss + annealing_coef * kl_div_loss\n",
    "\n",
    "            loss.backward()\n",
    "            optimizer.step()\n",
    "            if batch_idx % 100 == 0 and verbose:\n",
    "                print('Train Epoch: {} [{}/{} ({:.0f}%)]\\tLoss: {:.6f}\\tUncertainty: {:.6f}'.format(\n",
    "                    epoch, batch_idx * len(data), len(train_loader.dataset),\n",
    "                    100. * batch_idx / len(train_loader), loss.item(), u.mean()))\n",
    "                \n",
    "        train_acc, train_u = correct / len(train_loader.dataset), u.mean().detach().numpy().item()\n",
    "        train_acc_vals.append(train_acc)\n",
    "        train_u_vals.append(train_u)\n",
    "        \n",
    "        if val_loader is not None:\n",
    "            print(\"Validation: \", end = \"\")\n",
    "            test_acc, test_u = test(model, val_loader, criterion, plot=True)\n",
    "            test_acc_vals.append(test_acc)\n",
    "            test_u_vals.append(test_u)\n",
    "\n",
    "    # Plotting the lines\n",
    "    plt.plot(np.arange(epochs), train_acc_vals, label='Training Accuracy', color='blue')\n",
    "    plt.plot(np.arange(epochs), train_u_vals, label='Training Uncertainty', color='purple')\n",
    "    plt.plot(np.arange(epochs), test_acc_vals, label='Testing Accuracy', color='orange')\n",
    "    plt.plot(np.arange(epochs), test_u_vals, label='Testing Uncertainty', color='red')\n",
    "    plt.xticks(np.arange(0, epochs, 1))\n",
    "\n",
    "    # Adding titles and labels\n",
    "    plt.title('Accuracy vs. Uncertainty')\n",
    "    plt.xlabel('Epoch')\n",
    "    plt.ylabel('Value')\n",
    "    plt.legend()\n",
    "\n",
    "    # Show the plot\n",
    "    plt.show()\n",
    "\n",
    "def test(model, test_loader, criterion, num_classes=10, plot=False):\n",
    "    model.eval()\n",
    "    test_loss = 0\n",
    "    correct = 0\n",
    "    uncertainties = []\n",
    "\n",
    "    with torch.no_grad():\n",
    "        for data, target in test_loader:\n",
    "            data, target = data.to(device), target.to(device)\n",
    "            one_hot_target = F.one_hot(target, num_classes=num_classes)\n",
    "            output = model(data)\n",
    "\n",
    "            evidence = F.relu(output)\n",
    "            alpha = evidence + 1\n",
    "            u = num_classes / torch.sum(alpha, dim=1, keepdim=True)\n",
    "            uncertainties.append(u.mean())\n",
    "\n",
    "            # test_loss += criterion(output, target).item() # sum up batch loss\n",
    "            test_loss += criterion(output, one_hot_target).item()\n",
    "            pred = output.argmax(dim=1, keepdim=True) # get the index of the max log-probability\n",
    "            correct += pred.eq(target.view_as(pred)).sum().item()\n",
    "\n",
    "    test_loss /= len(test_loader.dataset)\n",
    "    accuracy = 100. * correct / len(test_loader.dataset)\n",
    "    avg_u = np.mean(uncertainties)\n",
    "    \n",
    "    print('Average loss: {:.4f}, Accuracy: {}/{} ({:.2f}%), Average Uncertainty: {:.4f}'.format(test_loss, correct, len(test_loader.dataset),\n",
    "        accuracy, avg_u))\n",
    "    \n",
    "    if plot:\n",
    "        return accuracy / 100, avg_u"
   ]
  },
  {
   "cell_type": "markdown",
   "metadata": {},
   "source": [
    "**NORTH:** Pretrain the model before changing the architecture"
   ]
  },
  {
   "cell_type": "code",
   "execution_count": 31,
   "metadata": {},
   "outputs": [
    {
     "name": "stdout",
     "output_type": "stream",
     "text": [
      "Train Epoch: 0 [0/54000 (0%)]\tLoss: 0.316645\tUncertainty: 0.447306\n",
      "Train Epoch: 0 [12800/54000 (24%)]\tLoss: 0.307465\tUncertainty: 0.446298\n",
      "Train Epoch: 0 [25600/54000 (47%)]\tLoss: 0.274082\tUncertainty: 0.445347\n",
      "Train Epoch: 0 [38400/54000 (71%)]\tLoss: 0.254492\tUncertainty: 0.436924\n",
      "Train Epoch: 0 [51200/54000 (95%)]\tLoss: 0.255923\tUncertainty: 0.441522\n",
      "Validation: Average loss: 0.6267, Accuracy: 5860/6000 (97.67%), Average Uncertainty: 0.4373\n",
      "Train Epoch: 1 [0/54000 (0%)]\tLoss: 0.305799\tUncertainty: 0.433896\n",
      "Train Epoch: 1 [12800/54000 (24%)]\tLoss: 0.228845\tUncertainty: 0.402163\n",
      "Train Epoch: 1 [25600/54000 (47%)]\tLoss: 0.236661\tUncertainty: 0.388784\n",
      "Train Epoch: 1 [38400/54000 (71%)]\tLoss: 0.218036\tUncertainty: 0.367280\n",
      "Train Epoch: 1 [51200/54000 (95%)]\tLoss: 0.212229\tUncertainty: 0.339632\n",
      "Validation: Average loss: -0.1724, Accuracy: 5850/6000 (97.50%), Average Uncertainty: 0.3423\n"
     ]
    },
    {
     "data": {
      "image/png": "[encoded data removed]",
      "text/plain": [
       "<Figure size 640x480 with 1 Axes>"
      ]
     },
     "metadata": {},
     "output_type": "display_data"
    }
   ],
   "source": [
    "train(model, train_loader, optimizer, criterion, epochs=2, val_loader=val_loader)"
   ]
  },
  {
   "cell_type": "markdown",
   "metadata": {},
   "source": [
    "### **NORTH:** Model Optimization Techniques"
   ]
  },
  {
   "cell_type": "markdown",
   "metadata": {},
   "source": [
    "**NORTH:** Use a heuristic from `metrics.py` to measure the existing channels and neurons to determine which ones to prune.\n",
    "\n",
    "The simplest one is measuring the norm of incoming weights to a neuron. We'll copy the model (so we have access to the original), then score each neuron and prune the lowest scoring ones within each layer. After running the following block, try uncommenting different lines to see how different metrics affect the model."
   ]
  },
  {
   "cell_type": "code",
   "execution_count": 8,
   "metadata": {},
   "outputs": [
    {
     "name": "stdout",
     "output_type": "stream",
     "text": [
      "Layer 0 scores: mean 4.49, std 0.236, min 4.16, smallest 25%: [1 0]\n",
      "Layer 1 scores: mean 8.73, std 0.447, min 8, smallest 25%: [7 5 1 3]\n",
      "Layer 2 scores: mean 8.83, std 0.621, min 7.54, smallest 25%: [ 6 11  1 15]\n",
      "Layer 3 scores: mean 3.26, std 0.33, min 2.49, smallest 25%: [19  7 11 21 29 15 28 23]\n",
      "The pruned model has 9058 effective parameters.\n",
      "Validation after pruning: Average loss: 0.0097, Accuracy: 4111/6000 (68.52%)\n",
      "Train Epoch: 0 [0/54000 (0%)]\tLoss: 0.747649\n",
      "Train Epoch: 0 [12800/54000 (24%)]\tLoss: 0.685697\n",
      "Train Epoch: 0 [25600/54000 (47%)]\tLoss: 0.659413\n",
      "Train Epoch: 0 [38400/54000 (71%)]\tLoss: 0.621350\n",
      "Train Epoch: 0 [51200/54000 (95%)]\tLoss: 0.612561\n",
      "Validation: Average loss: 0.0036, Accuracy: 5643/6000 (94.05%)\n",
      "Train Epoch: 1 [0/54000 (0%)]\tLoss: 0.614553\n",
      "Train Epoch: 1 [12800/54000 (24%)]\tLoss: 0.399520\n",
      "Train Epoch: 1 [25600/54000 (47%)]\tLoss: 0.357692\n",
      "Train Epoch: 1 [38400/54000 (71%)]\tLoss: 0.307343\n",
      "Train Epoch: 1 [51200/54000 (95%)]\tLoss: 0.242675\n",
      "Validation: Average loss: 0.0166, Accuracy: 5688/6000 (94.80%)\n"
     ]
    }
   ],
   "source": [
    "modded_model = copy.deepcopy(model)\n",
    "modded_optimizer = torch.optim.SGD(modded_model.parameters(), lr=0.01)\n",
    "modded_optimizer.load_state_dict(optimizer.state_dict())\n",
    "\n",
    "for i in range(len(model)-1):\n",
    "    scores = weight_sum(modded_model[i].weight)\n",
    "    # scores = weight_sum(modded_model[i].weight) +  weight_sum(modded_model[i+1].weight, fanin=False, conversion_factor=model.conversion_factor if i == model.conversion_layer else -1)\n",
    "    # scores = activation_variance(modded_model.activations[str(i)])\n",
    "    # scores = svd_score(modded_model.activations[str(i)])\n",
    "    # scores = nuclear_score(modded_model.activations[str(i)], average=i<3)\n",
    "    # scores = modded_model[i+1].batchnorm.weight.abs() if i != modded_model.conversion_layer else modded_model[i+1].batchnorm.weight.abs().reshape(modded_model.conversion_factor,-1).sum(0) \n",
    "    # Before trying this line, run the following block: # scores = fisher_info(mask_grads[i])\n",
    "    print(\"Layer {} scores: mean {:.3g}, std {:.3g}, min {:.3g}, smallest 25%:\".format(i, scores.mean(), scores.std(), scores.min()), end=\" \")\n",
    "    to_prune = np.argsort(scores.detach().cpu().numpy())[:int(0.25*len(scores))]\n",
    "    print(to_prune)\n",
    "    modded_model.prune(i, to_prune, optimizer=modded_optimizer, clear_activations=True)\n",
    "print(\"The pruned model has {} effective parameters.\".format(modded_model.parameter_count(masked = True)))\n",
    "print(\"Validation after pruning: \", end = \"\")\n",
    "test(modded_model, val_loader, criterion)\n",
    "train(modded_model, train_loader, modded_optimizer, criterion, epochs=2, val_loader=val_loader)"
   ]
  },
  {
   "cell_type": "markdown",
   "metadata": {},
   "source": [
    "**NORTH:** Grow the model using a neurogenesis strategy similar to NORTH-Random."
   ]
  },
  {
   "cell_type": "code",
   "execution_count": 9,
   "metadata": {},
   "outputs": [
    {
     "name": "stdout",
     "output_type": "stream",
     "text": [
      "Layer 0 score: 8/8, neurons to add: 1\n",
      "Layer 1 score: 16/16, neurons to add: 1\n",
      "Layer 2 score: 16/16, neurons to add: 1\n",
      "Layer 3 score: 32/32, neurons to add: 2\n",
      "The grown model now has 16731 effective parameters.\n",
      "Validation after growing: Average loss: 0.0108, Accuracy: 5708/6000 (95.13%)\n",
      "Train Epoch: 0 [0/54000 (0%)]\tLoss: 0.654126\n",
      "Train Epoch: 0 [12800/54000 (24%)]\tLoss: 0.593728\n",
      "Train Epoch: 0 [25600/54000 (47%)]\tLoss: 0.579987\n",
      "Train Epoch: 0 [38400/54000 (71%)]\tLoss: 0.567058\n",
      "Train Epoch: 0 [51200/54000 (95%)]\tLoss: 0.531281\n",
      "Validation: Average loss: 0.0028, Accuracy: 5755/6000 (95.92%)\n",
      "Train Epoch: 1 [0/54000 (0%)]\tLoss: 0.585440\n",
      "Train Epoch: 1 [12800/54000 (24%)]\tLoss: 0.378533\n",
      "Train Epoch: 1 [25600/54000 (47%)]\tLoss: 0.316372\n",
      "Train Epoch: 1 [38400/54000 (71%)]\tLoss: 0.277143\n",
      "Train Epoch: 1 [51200/54000 (95%)]\tLoss: 0.250785\n",
      "Validation: Average loss: 0.0171, Accuracy: 5732/6000 (95.53%)\n",
      "Layer 0 score: 8/9, neurons to add: 0\n",
      "Layer 1 score: 17/17, neurons to add: 1\n",
      "Layer 2 score: 17/17, neurons to add: 1\n",
      "Layer 3 score: 34/34, neurons to add: 2\n",
      "The grown model now has 19143 effective parameters.\n",
      "Validation after growing: Average loss: 0.0171, Accuracy: 5732/6000 (95.53%)\n",
      "Train Epoch: 0 [0/54000 (0%)]\tLoss: 0.544091\n",
      "Train Epoch: 0 [12800/54000 (24%)]\tLoss: 0.513225\n",
      "Train Epoch: 0 [25600/54000 (47%)]\tLoss: 0.503585\n",
      "Train Epoch: 0 [38400/54000 (71%)]\tLoss: 0.464649\n",
      "Train Epoch: 0 [51200/54000 (95%)]\tLoss: 0.462490\n",
      "Validation: Average loss: 0.0020, Accuracy: 5742/6000 (95.70%)\n",
      "Train Epoch: 1 [0/54000 (0%)]\tLoss: 0.458819\n",
      "Train Epoch: 1 [12800/54000 (24%)]\tLoss: 0.329700\n",
      "Train Epoch: 1 [25600/54000 (47%)]\tLoss: 0.271266\n",
      "Train Epoch: 1 [38400/54000 (71%)]\tLoss: 0.270787\n",
      "Train Epoch: 1 [51200/54000 (95%)]\tLoss: 0.235631\n",
      "Validation: Average loss: 0.0400, Accuracy: 5729/6000 (95.48%)\n",
      "Layer 0 score: 9/9, neurons to add: 1\n",
      "Layer 1 score: 18/18, neurons to add: 1\n",
      "Layer 2 score: 18/18, neurons to add: 1\n",
      "Layer 3 score: 36/36, neurons to add: 2\n",
      "The grown model now has 20863 effective parameters.\n",
      "Validation after growing: Average loss: 0.0406, Accuracy: 5729/6000 (95.48%)\n",
      "Train Epoch: 0 [0/54000 (0%)]\tLoss: 0.470437\n",
      "Train Epoch: 0 [12800/54000 (24%)]\tLoss: 0.435028\n",
      "Train Epoch: 0 [25600/54000 (47%)]\tLoss: 0.406646\n",
      "Train Epoch: 0 [38400/54000 (71%)]\tLoss: 0.420289\n",
      "Train Epoch: 0 [51200/54000 (95%)]\tLoss: 0.411202\n",
      "Validation: Average loss: 0.0020, Accuracy: 5763/6000 (96.05%)\n",
      "Train Epoch: 1 [0/54000 (0%)]\tLoss: 0.424378\n",
      "Train Epoch: 1 [12800/54000 (24%)]\tLoss: 0.333624\n",
      "Train Epoch: 1 [25600/54000 (47%)]\tLoss: 0.329233\n",
      "Train Epoch: 1 [38400/54000 (71%)]\tLoss: 0.258877\n",
      "Train Epoch: 1 [51200/54000 (95%)]\tLoss: 0.275853\n",
      "Validation: Average loss: 0.0164, Accuracy: 5742/6000 (95.70%)\n",
      "Layer 0 score: 9/10, neurons to add: 0\n",
      "Layer 1 score: 19/19, neurons to add: 1\n",
      "Layer 2 score: 19/19, neurons to add: 1\n",
      "Layer 3 score: 38/38, neurons to add: 2\n",
      "The grown model now has 23552 effective parameters.\n",
      "Validation after growing: Average loss: 0.0164, Accuracy: 5742/6000 (95.70%)\n",
      "Train Epoch: 0 [0/54000 (0%)]\tLoss: 0.446015\n",
      "Train Epoch: 0 [12800/54000 (24%)]\tLoss: 0.388205\n",
      "Train Epoch: 0 [25600/54000 (47%)]\tLoss: 0.403113\n",
      "Train Epoch: 0 [38400/54000 (71%)]\tLoss: 0.381895\n",
      "Train Epoch: 0 [51200/54000 (95%)]\tLoss: 0.384242\n",
      "Validation: Average loss: 0.0038, Accuracy: 5755/6000 (95.92%)\n",
      "Train Epoch: 1 [0/54000 (0%)]\tLoss: 0.392719\n",
      "Train Epoch: 1 [12800/54000 (24%)]\tLoss: 0.295076\n",
      "Train Epoch: 1 [25600/54000 (47%)]\tLoss: 0.273840\n",
      "Train Epoch: 1 [38400/54000 (71%)]\tLoss: 0.239241\n",
      "Train Epoch: 1 [51200/54000 (95%)]\tLoss: 0.226088\n",
      "Validation: Average loss: 0.0177, Accuracy: 5761/6000 (96.02%)\n",
      "Layer 0 score: 9/10, neurons to add: 0\n",
      "Layer 1 score: 20/20, neurons to add: 1\n",
      "Layer 2 score: 20/20, neurons to add: 1\n",
      "Layer 3 score: 39/40, neurons to add: 1\n",
      "The grown model now has 25291 effective parameters.\n",
      "Validation after growing: Average loss: 0.0179, Accuracy: 5761/6000 (96.02%)\n",
      "Train Epoch: 0 [0/54000 (0%)]\tLoss: 0.391899\n",
      "Train Epoch: 0 [12800/54000 (24%)]\tLoss: 0.355566\n",
      "Train Epoch: 0 [25600/54000 (47%)]\tLoss: 0.337849\n",
      "Train Epoch: 0 [38400/54000 (71%)]\tLoss: 0.344268\n",
      "Train Epoch: 0 [51200/54000 (95%)]\tLoss: 0.344796\n",
      "Validation: Average loss: 0.0040, Accuracy: 5767/6000 (96.12%)\n",
      "Train Epoch: 1 [0/54000 (0%)]\tLoss: 0.379568\n",
      "Train Epoch: 1 [12800/54000 (24%)]\tLoss: 0.300253\n",
      "Train Epoch: 1 [25600/54000 (47%)]\tLoss: 0.290156\n",
      "Train Epoch: 1 [38400/54000 (71%)]\tLoss: 0.235666\n",
      "Train Epoch: 1 [51200/54000 (95%)]\tLoss: 0.252360\n",
      "Validation: Average loss: 0.0457, Accuracy: 5775/6000 (96.25%)\n"
     ]
    }
   ],
   "source": [
    "modded_model_grow = copy.deepcopy(model)\n",
    "modded_optimizer_grow = torch.optim.SGD(modded_model_grow.parameters(), lr=0.01)\n",
    "modded_optimizer_grow.load_state_dict(optimizer.state_dict())\n",
    "\n",
    "for iter in range(5):\n",
    "    for i in range(len(modded_model_grow)-1):\n",
    "        #score = orthogonality_gap(modded_model_grow.activations[str(i)])\n",
    "        max_rank = modded_model_grow[i].width()\n",
    "        score = effective_rank(modded_model_grow.activations[str(i)])\n",
    "        to_add = max(score-int(0.95*max_rank), 0)\n",
    "        print(\"Layer {} score: {}/{}, neurons to add: {}\".format(i, score, max_rank, to_add))\n",
    "        modded_model_grow.grow(i, to_add, fanin_weights=\"iterative_orthogonalization\",\n",
    "                               optimizer=modded_optimizer_grow)\n",
    "    print(\"The grown model now has {} effective parameters.\".format(modded_model_grow.parameter_count(masked = True)))\n",
    "    print(\"Validation after growing: \", end = \"\")\n",
    "    test(modded_model_grow, val_loader, criterion)\n",
    "    train(modded_model_grow, train_loader, modded_optimizer_grow, criterion, epochs=2, val_loader=val_loader)"
   ]
  },
  {
   "cell_type": "code",
   "execution_count": null,
   "metadata": {},
   "outputs": [],
   "source": []
  }
 ],
 "metadata": {
  "kernelspec": {
   "display_name": ".venv",
   "language": "python",
   "name": "python3"
  },
  "language_info": {
   "codemirror_mode": {
    "name": "ipython",
    "version": 3
   },
   "file_extension": ".py",
   "mimetype": "text/x-python",
   "name": "python",
   "nbconvert_exporter": "python",
   "pygments_lexer": "ipython3",
   "version": "3.11.2"
  }
 },
 "nbformat": 4,
 "nbformat_minor": 4
}
