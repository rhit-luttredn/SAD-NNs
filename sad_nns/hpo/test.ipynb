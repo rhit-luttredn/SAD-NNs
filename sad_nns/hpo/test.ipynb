{
 "cells": [
  {
   "cell_type": "code",
   "execution_count": 1,
   "metadata": {},
   "outputs": [
    {
     "name": "stdout",
     "output_type": "stream",
     "text": [
      "pygame 2.5.2 (SDL 2.28.2, Python 3.11.2)\n",
      "Hello from the pygame community. https://www.pygame.org/contribute.html\n"
     ]
    },
    {
     "name": "stderr",
     "output_type": "stream",
     "text": [
      "/tmp/ipykernel_1282020/1806671208.py:2: DeprecationWarning: \n",
      "Pyarrow will become a required dependency of pandas in the next major release of pandas (pandas 3.0),\n",
      "(to allow more performant data types, such as the Arrow string type, and better interoperability with other libraries)\n",
      "but was not found to be installed on your system.\n",
      "If this would cause problems for you,\n",
      "please provide us feedback at https://github.com/pandas-dev/pandas/issues/54466\n",
      "        \n",
      "  import pandas as pd\n"
     ]
    }
   ],
   "source": [
    "import sad_nns.envs\n",
    "import pandas as pd"
   ]
  },
  {
   "cell_type": "code",
   "execution_count": 2,
   "metadata": {},
   "outputs": [],
   "source": [
    "import sb3_contrib\n",
    "import torch\n",
    "import gymnasium as gym\n",
    "import stable_baselines3 as sb3"
   ]
  },
  {
   "cell_type": "code",
   "execution_count": 3,
   "metadata": {},
   "outputs": [
    {
     "name": "stdout",
     "output_type": "stream",
     "text": [
      "it was called\n"
     ]
    }
   ],
   "source": [
    "device = \"cpu\" if not torch.cuda.is_available() else \"cuda:0\"\n",
    "# env = gym.make(\"Regression_Env\", device=device, action_low=[0,-.001,0.0], action_high=[1,.1,0.6]) #making the action space more friendly\n",
    "kwargs = {\"action_low\":[0,-.001,0.0,.4,0.0,0.0],    \"action_high\":[1,.1,0.6,1.0,1.0,1.0], \"device\":device}\n",
    "env = gym.make(\"RegressionEnv-v0\", device=device)\n",
    "env = gym.wrappers.FlattenObservation(env)\n",
    "# env = gym.make(\"NORTH_Regression_Env\", device=device,seed=1, action_low=[0,-.001,0.0,.4,0.0,0.0], action_high=[1,.1,0.6,1.0,1.0,1.0]) #making the action space more friendly\n",
    "env = gym.wrappers.FlattenObservation(env)"
   ]
  },
  {
   "cell_type": "code",
   "execution_count": null,
   "metadata": {},
   "outputs": [],
   "source": [
    "model = sb3_contrib.RecurrentPPO(\"MlpLstmPolicy\", env, verbose=1)\n",
    "model.set_logger(sb3.common.logger.configure('./sb3_log', [\"stdout\", \"csv\", \"tensorboard\"]))\n",
    "model.learn(10000,log_interval=5)"
   ]
  },
  {
   "cell_type": "code",
   "execution_count": null,
   "metadata": {},
   "outputs": [],
   "source": [
    "df = pd.read_csv('./sb3_log/progress.csv')"
   ]
  },
  {
   "cell_type": "code",
   "execution_count": null,
   "metadata": {},
   "outputs": [
    {
     "data": {
      "text/html": [
       "<div>\n",
       "<style scoped>\n",
       "    .dataframe tbody tr th:only-of-type {\n",
       "        vertical-align: middle;\n",
       "    }\n",
       "\n",
       "    .dataframe tbody tr th {\n",
       "        vertical-align: top;\n",
       "    }\n",
       "\n",
       "    .dataframe thead th {\n",
       "        text-align: right;\n",
       "    }\n",
       "</style>\n",
       "<table border=\"1\" class=\"dataframe\">\n",
       "  <thead>\n",
       "    <tr style=\"text-align: right;\">\n",
       "      <th></th>\n",
       "      <th>train/approx_kl</th>\n",
       "      <th>train/n_updates</th>\n",
       "      <th>train/clip_range</th>\n",
       "      <th>rollout/ep_rew_mean</th>\n",
       "      <th>time/total_timesteps</th>\n",
       "      <th>train/clip_fraction</th>\n",
       "      <th>time/iterations</th>\n",
       "      <th>train/std</th>\n",
       "      <th>time/fps</th>\n",
       "      <th>train/loss</th>\n",
       "      <th>train/explained_variance</th>\n",
       "      <th>rollout/ep_len_mean</th>\n",
       "      <th>time/time_elapsed</th>\n",
       "      <th>train/policy_gradient_loss</th>\n",
       "      <th>train/entropy_loss</th>\n",
       "      <th>train/learning_rate</th>\n",
       "      <th>train/value_loss</th>\n",
       "    </tr>\n",
       "  </thead>\n",
       "  <tbody>\n",
       "    <tr>\n",
       "      <th>0</th>\n",
       "      <td>0.004427</td>\n",
       "      <td>40</td>\n",
       "      <td>0.2</td>\n",
       "      <td>-0.007888</td>\n",
       "      <td>640</td>\n",
       "      <td>0.003125</td>\n",
       "      <td>5</td>\n",
       "      <td>0.993910</td>\n",
       "      <td>5</td>\n",
       "      <td>-0.010256</td>\n",
       "      <td>-1.854931</td>\n",
       "      <td>2.93</td>\n",
       "      <td>121</td>\n",
       "      <td>-0.006971</td>\n",
       "      <td>-4.242402</td>\n",
       "      <td>0.0003</td>\n",
       "      <td>0.019266</td>\n",
       "    </tr>\n",
       "    <tr>\n",
       "      <th>1</th>\n",
       "      <td>0.014929</td>\n",
       "      <td>90</td>\n",
       "      <td>0.2</td>\n",
       "      <td>0.029910</td>\n",
       "      <td>1280</td>\n",
       "      <td>0.067969</td>\n",
       "      <td>10</td>\n",
       "      <td>0.986728</td>\n",
       "      <td>5</td>\n",
       "      <td>-0.032516</td>\n",
       "      <td>0.050830</td>\n",
       "      <td>3.40</td>\n",
       "      <td>236</td>\n",
       "      <td>-0.020237</td>\n",
       "      <td>-4.218651</td>\n",
       "      <td>0.0003</td>\n",
       "      <td>0.011752</td>\n",
       "    </tr>\n",
       "    <tr>\n",
       "      <th>2</th>\n",
       "      <td>0.001381</td>\n",
       "      <td>140</td>\n",
       "      <td>0.2</td>\n",
       "      <td>0.028605</td>\n",
       "      <td>1920</td>\n",
       "      <td>0.000000</td>\n",
       "      <td>15</td>\n",
       "      <td>0.982196</td>\n",
       "      <td>5</td>\n",
       "      <td>-0.010326</td>\n",
       "      <td>-0.205670</td>\n",
       "      <td>5.26</td>\n",
       "      <td>364</td>\n",
       "      <td>-0.006953</td>\n",
       "      <td>-4.204716</td>\n",
       "      <td>0.0003</td>\n",
       "      <td>0.013647</td>\n",
       "    </tr>\n",
       "    <tr>\n",
       "      <th>3</th>\n",
       "      <td>0.015340</td>\n",
       "      <td>190</td>\n",
       "      <td>0.2</td>\n",
       "      <td>0.056798</td>\n",
       "      <td>2560</td>\n",
       "      <td>0.123438</td>\n",
       "      <td>20</td>\n",
       "      <td>0.980102</td>\n",
       "      <td>5</td>\n",
       "      <td>-0.015177</td>\n",
       "      <td>0.160839</td>\n",
       "      <td>7.76</td>\n",
       "      <td>481</td>\n",
       "      <td>-0.010640</td>\n",
       "      <td>-4.198588</td>\n",
       "      <td>0.0003</td>\n",
       "      <td>0.009492</td>\n",
       "    </tr>\n",
       "    <tr>\n",
       "      <th>4</th>\n",
       "      <td>0.008162</td>\n",
       "      <td>240</td>\n",
       "      <td>0.2</td>\n",
       "      <td>0.086023</td>\n",
       "      <td>3200</td>\n",
       "      <td>0.075000</td>\n",
       "      <td>25</td>\n",
       "      <td>0.973979</td>\n",
       "      <td>5</td>\n",
       "      <td>-0.004652</td>\n",
       "      <td>0.464642</td>\n",
       "      <td>11.17</td>\n",
       "      <td>607</td>\n",
       "      <td>-0.002838</td>\n",
       "      <td>-4.179045</td>\n",
       "      <td>0.0003</td>\n",
       "      <td>0.010328</td>\n",
       "    </tr>\n",
       "  </tbody>\n",
       "</table>\n",
       "</div>"
      ],
      "text/plain": [
       "   train/approx_kl  train/n_updates  train/clip_range  rollout/ep_rew_mean  \\\n",
       "0         0.004427               40               0.2            -0.007888   \n",
       "1         0.014929               90               0.2             0.029910   \n",
       "2         0.001381              140               0.2             0.028605   \n",
       "3         0.015340              190               0.2             0.056798   \n",
       "4         0.008162              240               0.2             0.086023   \n",
       "\n",
       "   time/total_timesteps  train/clip_fraction  time/iterations  train/std  \\\n",
       "0                   640             0.003125                5   0.993910   \n",
       "1                  1280             0.067969               10   0.986728   \n",
       "2                  1920             0.000000               15   0.982196   \n",
       "3                  2560             0.123438               20   0.980102   \n",
       "4                  3200             0.075000               25   0.973979   \n",
       "\n",
       "   time/fps  train/loss  train/explained_variance  rollout/ep_len_mean  \\\n",
       "0         5   -0.010256                 -1.854931                 2.93   \n",
       "1         5   -0.032516                  0.050830                 3.40   \n",
       "2         5   -0.010326                 -0.205670                 5.26   \n",
       "3         5   -0.015177                  0.160839                 7.76   \n",
       "4         5   -0.004652                  0.464642                11.17   \n",
       "\n",
       "   time/time_elapsed  train/policy_gradient_loss  train/entropy_loss  \\\n",
       "0                121                   -0.006971           -4.242402   \n",
       "1                236                   -0.020237           -4.218651   \n",
       "2                364                   -0.006953           -4.204716   \n",
       "3                481                   -0.010640           -4.198588   \n",
       "4                607                   -0.002838           -4.179045   \n",
       "\n",
       "   train/learning_rate  train/value_loss  \n",
       "0               0.0003          0.019266  \n",
       "1               0.0003          0.011752  \n",
       "2               0.0003          0.013647  \n",
       "3               0.0003          0.009492  \n",
       "4               0.0003          0.010328  "
      ]
     },
     "execution_count": 3,
     "metadata": {},
     "output_type": "execute_result"
    }
   ],
   "source": [
    "df.head()"
   ]
  },
  {
   "cell_type": "code",
   "execution_count": null,
   "metadata": {},
   "outputs": [
    {
     "data": {
      "text/plain": [
       "<Axes: >"
      ]
     },
     "execution_count": 5,
     "metadata": {},
     "output_type": "execute_result"
    },
    {
     "data": {
      "image/png": "[encoded data removed]",
      "text/plain": [
       "<Figure size 640x480 with 1 Axes>"
      ]
     },
     "metadata": {},
     "output_type": "display_data"
    }
   ],
   "source": [
    "df.plot(y='rollout/ep_rew_mean')"
   ]
  },
  {
   "cell_type": "code",
   "execution_count": null,
   "metadata": {},
   "outputs": [
    {
     "data": {
      "text/plain": [
       "<Axes: >"
      ]
     },
     "execution_count": 7,
     "metadata": {},
     "output_type": "execute_result"
    },
    {
     "data": {
      "image/png": "[encoded data removed]",
      "text/plain": [
       "<Figure size 640x480 with 1 Axes>"
      ]
     },
     "metadata": {},
     "output_type": "display_data"
    }
   ],
   "source": [
    "df.plot(y=\"rollout/ep_len_mean\")"
   ]
  },
  {
   "cell_type": "code",
   "execution_count": 11,
   "metadata": {},
   "outputs": [],
   "source": [
    "from stable_baselines3.common.buffers import ReplayBuffer\n",
    "import numpy as np\n",
    "rb = ReplayBuffer(\n",
    "        1_000_000,\n",
    "        env.observation_space,\n",
    "        env.action_space,\n",
    "        device,\n",
    "        handle_timeout_termination=False,\n",
    "    )"
   ]
  },
  {
   "cell_type": "code",
   "execution_count": 14,
   "metadata": {},
   "outputs": [
    {
     "data": {
      "text/plain": [
       "0.45245510129023"
      ]
     },
     "execution_count": 14,
     "metadata": {},
     "output_type": "execute_result"
    }
   ],
   "source": [
    "data = {\"reward\":[],\"cumulative_reward\":[]}\n",
    "obs, _ = env.reset(seed=5)\n",
    "cumulative_reward = 0\n",
    "infos = []\n",
    "action = torch.tensor([0.001,0.1])\n",
    "for i in range(70):\n",
    "    new_obs, reward, done, _, info = env.step(action)\n",
    "    infos.append(info)\n",
    "    rb.add(obs,new_obs,action,reward,done,infos)\n",
    "    obs=new_obs\n",
    "    # data[\"step\"].append(i)\n",
    "    data[\"reward\"].append(reward)\n",
    "    cumulative_reward += reward\n",
    "    data[\"cumulative_reward\"].append(cumulative_reward)\n",
    "    # print(cumulative_reward)\n",
    "    if done:\n",
    "        break\n",
    "action[0] = 1\n",
    "observation, reward, done, _, info = env.step(action)\n",
    "infos.append(info)\n",
    "rb.add(obs,observation,action,reward,done,infos)\n",
    "# data[\"step\"].append(i)\n",
    "data[\"reward\"].append(reward)\n",
    "cumulative_reward += reward\n",
    "data[\"cumulative_reward\"].append(cumulative_reward)\n",
    "cumulative_reward"
   ]
  },
  {
   "cell_type": "code",
   "execution_count": 15,
   "metadata": {},
   "outputs": [
    {
     "data": {
      "text/plain": [
       "<Axes: >"
      ]
     },
     "execution_count": 15,
     "metadata": {},
     "output_type": "execute_result"
    },
    {
     "data": {
      "image/png": "[encoded data removed]",
      "text/plain": [
       "<Figure size 640x480 with 1 Axes>"
      ]
     },
     "metadata": {},
     "output_type": "display_data"
    }
   ],
   "source": [
    "data = pd.DataFrame(data)\n",
    "data.plot()"
   ]
  },
  {
   "cell_type": "code",
   "execution_count": 27,
   "metadata": {},
   "outputs": [
    {
     "data": {
      "text/plain": [
       "tensor([[9.6000e+01, 4.0000e+00, 3.0749e+04, 5.9456e-02, 2.8000e+01, 6.0000e+00,\n",
       "         7.4071e-01, 6.2200e+02, 7.5745e+04, 3.1088e+04, 1.9984e-01, 1.3327e+04,\n",
       "         3.7000e+02, 1.6870e+04, 1.2700e+02],\n",
       "        [9.6000e+01, 4.0000e+00, 3.0749e+04, 5.9456e-02, 9.0000e+00, 6.0000e+00,\n",
       "         7.4071e-01, 6.2200e+02, 7.5745e+04, 3.1088e+04, 1.9984e-01, 2.4700e+04,\n",
       "         3.7000e+02, 2.6580e+04, 1.2700e+02],\n",
       "        [9.6000e+01, 4.0000e+00, 3.0749e+04, 5.9456e-02, 5.1000e+01, 6.0000e+00,\n",
       "         7.4071e-01, 6.2200e+02, 7.5745e+04, 3.1088e+04, 1.9984e-01, 1.3164e+04,\n",
       "         3.7000e+02, 1.6566e+04, 1.2700e+02],\n",
       "        [9.6000e+01, 4.0000e+00, 3.0749e+04, 5.9456e-02, 1.9000e+01, 6.0000e+00,\n",
       "         7.4071e-01, 6.2200e+02, 7.5745e+04, 3.1088e+04, 1.9984e-01, 1.3736e+04,\n",
       "         3.7000e+02, 1.7156e+04, 1.2700e+02],\n",
       "        [9.6000e+01, 4.0000e+00, 3.0749e+04, 5.9456e-02, 5.6000e+01, 6.0000e+00,\n",
       "         7.4071e-01, 6.2200e+02, 7.5745e+04, 3.1088e+04, 1.9984e-01, 1.3149e+04,\n",
       "         3.7000e+02, 1.6690e+04, 1.2700e+02],\n",
       "        [9.6000e+01, 4.0000e+00, 3.0749e+04, 5.9456e-02, 1.8000e+01, 6.0000e+00,\n",
       "         7.4071e-01, 6.2200e+02, 7.5745e+04, 3.1088e+04, 1.9984e-01, 1.3874e+04,\n",
       "         3.7000e+02, 1.7892e+04, 1.2700e+02],\n",
       "        [9.6000e+01, 4.0000e+00, 3.0749e+04, 5.9456e-02, 3.5000e+01, 6.0000e+00,\n",
       "         7.4071e-01, 6.2200e+02, 7.5745e+04, 3.1088e+04, 1.9984e-01, 1.3377e+04,\n",
       "         3.7000e+02, 1.7009e+04, 1.2700e+02],\n",
       "        [9.6000e+01, 4.0000e+00, 3.0749e+04, 5.9456e-02, 6.4000e+01, 6.0000e+00,\n",
       "         7.4071e-01, 6.2200e+02, 7.5745e+04, 3.1088e+04, 1.9984e-01, 1.2841e+04,\n",
       "         3.7000e+02, 1.6670e+04, 1.2700e+02],\n",
       "        [9.6000e+01, 4.0000e+00, 3.0749e+04, 5.9456e-02, 6.5000e+01, 6.0000e+00,\n",
       "         7.4071e-01, 6.2200e+02, 7.5745e+04, 3.1088e+04, 1.9984e-01, 1.2501e+04,\n",
       "         3.7000e+02, 1.5956e+04, 1.2700e+02],\n",
       "        [9.6000e+01, 4.0000e+00, 3.0749e+04, 5.9456e-02, 4.3000e+01, 6.0000e+00,\n",
       "         7.4071e-01, 6.2200e+02, 7.5745e+04, 3.1088e+04, 1.9984e-01, 1.3232e+04,\n",
       "         3.7000e+02, 1.6809e+04, 1.2700e+02]], device='cuda:0',\n",
       "       dtype=torch.float64)"
      ]
     },
     "execution_count": 27,
     "metadata": {},
     "output_type": "execute_result"
    }
   ],
   "source": [
    "rb.sample(10).observations"
   ]
  },
  {
   "cell_type": "code",
   "execution_count": null,
   "metadata": {},
   "outputs": [],
   "source": []
  }
 ],
 "metadata": {
  "kernelspec": {
   "display_name": "sad-nns-aEsqIT8E-py3.11",
   "language": "python",
   "name": "python3"
  },
  "language_info": {
   "codemirror_mode": {
    "name": "ipython",
    "version": 3
   },
   "file_extension": ".py",
   "mimetype": "text/x-python",
   "name": "python",
   "nbconvert_exporter": "python",
   "pygments_lexer": "ipython3",
   "version": "3.11.2"
  }
 },
 "nbformat": 4,
 "nbformat_minor": 2
}
