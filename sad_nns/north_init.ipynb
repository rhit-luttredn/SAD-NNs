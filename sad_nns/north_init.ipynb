{
 "cells": [
  {
   "cell_type": "markdown",
   "metadata": {},
   "source": [
    "### All the following cells are runable"
   ]
  },
  {
   "cell_type": "code",
   "execution_count": 1,
   "metadata": {},
   "outputs": [],
   "source": [
    "# Our setup\n",
    "import torch\n",
    "from torch.functional import F\n",
    "\n",
    "# device = torch.device(\"cuda\" if torch.cuda.is_available() else \"cpu\")\n",
    "device = \"cpu\" if not torch.cuda.is_available() else \"cuda:1\"\n",
    "\n",
    "import copy\n",
    "import numpy as np\n",
    "from torchvision import datasets, transforms\n",
    "import matplotlib.pyplot as plt\n",
    "\n",
    "from sad_nns.uncertainty import *\n",
    "from neurops import *"
   ]
  },
  {
   "cell_type": "code",
   "execution_count": null,
   "metadata": {},
   "outputs": [],
   "source": []
  },
  {
   "cell_type": "code",
   "execution_count": 2,
   "metadata": {},
   "outputs": [
    {
     "name": "stdout",
     "output_type": "stream",
     "text": [
      "This model has 15514 effective parameters.\n",
      "The conversion factor of this model is 4 after layer 2.\n"
     ]
    }
   ],
   "source": [
    "model = ModSequential(\n",
    "        # ModLinear(784, 64, masked=True, prebatchnorm=True, learnable_mask=True),\n",
    "        # ModLinear(64, 64, masked=True, prebatchnorm=True, learnable_mask=True),\n",
    "        # ModLinear(64, 64, masked=True, prebatchnorm=True, learnable_mask=True),\n",
    "        # ModLinear(64, 10, masked=True, prebatchnorm=True, nonlinearity=\"\"),\n",
    "        # ModLinear(784, 66),\n",
    "        # ModLinear(66, 103),\n",
    "        # ModLinear(103, 103),\n",
    "        # ModLinear(103, 10,nonlinearity=\"\"),\n",
    "        ModConv2d(in_channels=1, out_channels=8, kernel_size=7, padding=1),\n",
    "        ModConv2d(in_channels=8, out_channels=16, kernel_size=7, padding=1),\n",
    "        ModConv2d(in_channels=16, out_channels=16, kernel_size=5),\n",
    "        ModLinear(64, 32),\n",
    "        ModLinear(32, 10, nonlinearity=\"\"),\n",
    "        # ModLinear(784, 64),\n",
    "        # ModLinear(64, 64),\n",
    "        # ModLinear(64, 64),\n",
    "        # ModLinear(64, 10,nonlinearity=\"\"),\n",
    "        track_activations=False,\n",
    "        track_auxiliary_gradients=True,\n",
    "    #    input_shape = (784)\n",
    "       input_shape = (1, 14, 14)\n",
    "    ).to(device)\n",
    "optimizer = torch.optim.SGD(model.parameters(), lr=0.01)\n",
    "criterion = torch.nn.CrossEntropyLoss()\n",
    "\n",
    "print(\"This model has {} effective parameters.\".format(model.parameter_count(masked = False)))\n",
    "print(\"The conversion factor of this model is {} after layer {}.\".format(model.conversion_factor, model.conversion_layer))"
   ]
  },
  {
   "cell_type": "code",
   "execution_count": 4,
   "metadata": {},
   "outputs": [],
   "source": [
    "# for saving activations\n",
    "activation = {}\n",
    "def get_activation(name):\n",
    "    def hook(model, input, output):\n",
    "        activation[name] = output.detach()\n",
    "    return hook\n",
    "\n",
    "# manual save of activation\n",
    "for i in range(len(model)-1):\n",
    "    model[i].register_forward_hook(get_activation(str(i)))"
   ]
  },
  {
   "cell_type": "code",
   "execution_count": 5,
   "metadata": {},
   "outputs": [],
   "source": [
    "batch_size = 128\n",
    "epsilon = 0.01\n",
    "total_epoch = 16\n",
    "train_accs= []\n",
    "test_accs = []\n",
    "epochs = np.arange(total_epoch)"
   ]
  },
  {
   "cell_type": "code",
   "execution_count": 6,
   "metadata": {},
   "outputs": [],
   "source": [
    "dataset = datasets.MNIST('../data', train=True, download=True,\n",
    "                     transform=transforms.Compose([ \n",
    "                            transforms.ToTensor(),\n",
    "                            transforms.Normalize((0.1307,), (0.3081,)),\n",
    "                            transforms.Resize((14,14))\n",
    "                            # transforms.Resize((28,28)),\n",
    "                            # transforms.Lambda(lambda x: torch.flatten(x))\n",
    "                        ]))\n",
    "train_set, val_set = torch.utils.data.random_split(dataset, lengths=[int(0.9*len(dataset)), int(0.1*len(dataset))])\n",
    "train_loader = torch.utils.data.DataLoader(train_set, batch_size=batch_size, shuffle=True)\n",
    "val_loader = torch.utils.data.DataLoader(val_set, batch_size=batch_size, shuffle=True)\n",
    "\n",
    "test_loader = torch.utils.data.DataLoader(\n",
    "    datasets.MNIST('../data', train=False, transform=transforms.Compose([\n",
    "                            transforms.ToTensor(),\n",
    "                            transforms.Normalize((0.1307,), (0.3081,)),\n",
    "                            transforms.Resize((14,14))\n",
    "                            # transforms.Resize((28,28)),\n",
    "                            # transforms.Lambda(lambda x: torch.flatten(x))\n",
    "                        ])),\n",
    "    batch_size=batch_size, shuffle=True)\n",
    "\n",
    "def train(model, train_loader, optimizer, criterion, epochs=10, val_loader=None, verbose=True):\n",
    "    model.train()\n",
    "\n",
    "    train_accs = []\n",
    "    test_accs = []\n",
    "\n",
    "    for epoch in range(epochs):\n",
    "        for batch_idx, (data, target) in enumerate(train_loader):\n",
    "            data, target = data.to(device), target.to(device)\n",
    "            optimizer.zero_grad()\n",
    "            output = model(data)\n",
    "            loss = criterion(output, target)\n",
    "            loss.backward()\n",
    "            optimizer.step()\n",
    "            if batch_idx % 100 == 0 and verbose:\n",
    "                print('Train Epoch: {} [{}/{} ({:.0f}%)]\\tLoss: {:.6f}'.format(epoch, batch_idx * len(data), len(train_loader.dataset),\n",
    "                    100. * batch_idx / len(train_loader), loss.item()))\n",
    "        \n",
    "        correct = 0\n",
    "        for data, target in train_loader:\n",
    "            data, target = data.to(device), target.to(device)\n",
    "            output = model(data)   \n",
    "            pred = output.argmax(dim=1, keepdim=True) # get the index of the max log-probability\n",
    "            # print(pred)\n",
    "            correct += pred.eq(target.view_as(pred)).sum().item()\n",
    "        train_acc = 100. * correct / len(train_loader.dataset)\n",
    "        train_accs.append(train_acc)\n",
    "\n",
    "        if val_loader is not None:\n",
    "            print(\"Validation: \", end = \"\")\n",
    "            ta = test(model, val_loader, criterion)\n",
    "            test_accs.append(ta)\n",
    "\n",
    "    return train_accs, test_accs\n",
    "\n",
    "def test(model, test_loader, criterion):\n",
    "    model.eval()\n",
    "    test_loss = 0\n",
    "    correct = 0\n",
    "    with torch.no_grad():\n",
    "        for data, target in test_loader:\n",
    "            data, target = data.to(device), target.to(device)\n",
    "            output = model(data)\n",
    "            test_loss += criterion(output, target).item() # sum up batch loss\n",
    "            pred = output.argmax(dim=1, keepdim=True) # get the index of the max log-probability\n",
    "            correct += pred.eq(target.view_as(pred)).sum().item()\n",
    "\n",
    "    test_loss /= len(test_loader.dataset)\n",
    "    \n",
    "    print('Average loss: {:.4f}, Accuracy: {}/{} ({:.2f}%)'.format(test_loss, correct, len(test_loader.dataset),\n",
    "        100. * correct / len(test_loader.dataset)))\n",
    "    \n",
    "    return 100. * correct / len(test_loader.dataset)"
   ]
  },
  {
   "cell_type": "code",
   "execution_count": 7,
   "metadata": {},
   "outputs": [
    {
     "name": "stderr",
     "output_type": "stream",
     "text": [
      "/home/wangy51/senior_research/.venv/lib/python3.11/site-packages/torchvision/transforms/functional.py:1603: UserWarning: The default value of the antialias parameter of all the resizing transforms (Resize(), RandomResizedCrop(), etc.) will change from None to True in v0.17, in order to be consistent across the PIL and Tensor backends. To suppress this warning, directly pass antialias=True (recommended, future default), antialias=None (current default, which means False for Tensors and True for PIL), or antialias=False (only works on Tensors - PIL will still use antialiasing). This also applies if you are using the inference transforms from the models weights: update the call to weights.transforms(antialias=True).\n",
      "  warnings.warn(\n"
     ]
    },
    {
     "name": "stdout",
     "output_type": "stream",
     "text": [
      "Train Epoch: 0 [0/54000 (0%)]\tLoss: 2.315079\n",
      "Train Epoch: 0 [12800/54000 (24%)]\tLoss: 2.299212\n",
      "Train Epoch: 0 [25600/54000 (47%)]\tLoss: 2.276249\n",
      "Train Epoch: 0 [38400/54000 (71%)]\tLoss: 2.272042\n",
      "Train Epoch: 0 [51200/54000 (95%)]\tLoss: 2.164489\n",
      "Validation: Average loss: 0.0168, Accuracy: 1766/6000 (29.43%)\n"
     ]
    }
   ],
   "source": [
    "train_acc,test_acc = train(model, train_loader, optimizer, criterion, epochs=1, val_loader=val_loader)\n",
    "train_accs += train_acc\n",
    "test_accs += test_acc\n",
    "\n",
    "# print(\"----------------------\")\n",
    "# print('Train accs: ', train_accs)\n",
    "# print('Test accs: ', test_accs)\n",
    "# print(\"The model now has {} effective parameters.\".format(model.parameter_count(masked = False)))\n",
    "# plt.plot(epochs, train_accs, label='Training Accuracy', color='blue')\n",
    "# plt.plot(epochs, test_accs, label='Testing Accuracy', color='purple')\n",
    "# plt.title('Accuracy')\n",
    "# plt.xlabel('Epoch')\n",
    "# plt.ylabel('Value')\n",
    "# plt.ylim(0, 100)\n",
    "# plt.legend()\n",
    "# plt.show()"
   ]
  },
  {
   "cell_type": "code",
   "execution_count": 8,
   "metadata": {},
   "outputs": [
    {
     "name": "stdout",
     "output_type": "stream",
     "text": [
      "Layer 0 score: 0.0714285746216774/8, neurons to add: 0\n",
      "Layer 1 score: 0.133928582072258/16, neurons to add: 0\n",
      "Layer 2 score: 0.133928582072258/16, neurons to add: 0\n",
      "Layer 3 score: 0.0803571492433548/32, neurons to add: 0\n",
      "The grown model now has 15514 effective parameters.\n",
      "Validation after growing: Average loss: 0.0168, Accuracy: 1766/6000 (29.43%)\n",
      "Validation: Average loss: 0.0043, Accuracy: 5021/6000 (83.68%)\n",
      "Layer 0 score: 0.0714285746216774/8, neurons to add: 0\n",
      "Layer 1 score: 0.1428571492433548/16, neurons to add: 0\n",
      "Layer 2 score: 0.1428571492433548/16, neurons to add: 0\n",
      "Layer 3 score: 0.2410714328289032/32, neurons to add: 5\n",
      "The grown model now has 15514 effective parameters.\n",
      "Validation after growing: Average loss: 0.0043, Accuracy: 5021/6000 (83.68%)\n",
      "Validation: Average loss: 0.0034, Accuracy: 5221/6000 (87.02%)\n",
      "Layer 0 score: 0.0714285746216774/8, neurons to add: 0\n",
      "Layer 1 score: 0.1428571492433548/16, neurons to add: 0\n",
      "Layer 2 score: 0.1428571492433548/16, neurons to add: 0\n",
      "Layer 3 score: 0.2589285969734192/37, neurons to add: 6\n",
      "The grown model now has 15514 effective parameters.\n",
      "Validation after growing: Average loss: 0.0034, Accuracy: 5221/6000 (87.02%)\n",
      "Validation: Average loss: 0.0026, Accuracy: 5427/6000 (90.45%)\n",
      "Layer 0 score: 0.0714285746216774/8, neurons to add: 0\n",
      "Layer 1 score: 0.1428571492433548/16, neurons to add: 0\n",
      "Layer 2 score: 0.1428571492433548/16, neurons to add: 0\n",
      "Layer 3 score: 0.25/43, neurons to add: 7\n",
      "The grown model now has 15514 effective parameters.\n",
      "Validation after growing: Average loss: 0.0026, Accuracy: 5427/6000 (90.45%)\n",
      "Validation: Average loss: 0.0022, Accuracy: 5518/6000 (91.97%)\n",
      "Layer 0 score: 0.0714285746216774/8, neurons to add: 0\n",
      "Layer 1 score: 0.1428571492433548/16, neurons to add: 0\n",
      "Layer 2 score: 0.1428571492433548/16, neurons to add: 0\n",
      "Layer 3 score: 0.25/50, neurons to add: 8\n",
      "The grown model now has 15514 effective parameters.\n",
      "Validation after growing: Average loss: 0.0022, Accuracy: 5518/6000 (91.97%)\n",
      "Validation: Average loss: 0.0020, Accuracy: 5550/6000 (92.50%)\n",
      "Layer 0 score: 0.0714285746216774/8, neurons to add: 0\n",
      "Layer 1 score: 0.1428571492433548/16, neurons to add: 0\n",
      "Layer 2 score: 0.1428571492433548/16, neurons to add: 0\n",
      "Layer 3 score: 0.2410714328289032/58, neurons to add: 9\n",
      "The grown model now has 15514 effective parameters.\n",
      "Validation after growing: Average loss: 0.0020, Accuracy: 5550/6000 (92.50%)\n",
      "Validation: Average loss: 0.0017, Accuracy: 5625/6000 (93.75%)\n",
      "Layer 0 score: 0.0714285746216774/8, neurons to add: 0\n",
      "Layer 1 score: 0.1428571492433548/16, neurons to add: 0\n",
      "Layer 2 score: 0.1428571492433548/16, neurons to add: 0\n",
      "Layer 3 score: 0.25/67, neurons to add: 11\n",
      "The grown model now has 15514 effective parameters.\n",
      "Validation after growing: Average loss: 0.0017, Accuracy: 5625/6000 (93.75%)\n",
      "Validation: Average loss: 0.0016, Accuracy: 5653/6000 (94.22%)\n",
      "Layer 0 score: 0.0714285746216774/8, neurons to add: 0\n",
      "Layer 1 score: 0.1428571492433548/16, neurons to add: 0\n",
      "Layer 2 score: 0.1428571492433548/16, neurons to add: 0\n",
      "Layer 3 score: 0.2589285969734192/78, neurons to add: 14\n",
      "The grown model now has 15514 effective parameters.\n",
      "Validation after growing: Average loss: 0.0016, Accuracy: 5653/6000 (94.22%)\n",
      "Validation: Average loss: 0.0014, Accuracy: 5695/6000 (94.92%)\n",
      "Layer 0 score: 0.0714285746216774/8, neurons to add: 0\n",
      "Layer 1 score: 0.1428571492433548/16, neurons to add: 0\n",
      "Layer 2 score: 0.1428571492433548/16, neurons to add: 0\n",
      "Layer 3 score: 0.2589285969734192/92, neurons to add: 16\n",
      "The grown model now has 15514 effective parameters.\n",
      "Validation after growing: Average loss: 0.0014, Accuracy: 5695/6000 (94.92%)\n",
      "Validation: Average loss: 0.0014, Accuracy: 5695/6000 (94.92%)\n",
      "Layer 0 score: 0.0714285746216774/8, neurons to add: 0\n",
      "Layer 1 score: 0.1428571492433548/16, neurons to add: 0\n",
      "Layer 2 score: 0.1428571492433548/16, neurons to add: 0\n",
      "Layer 3 score: 0.25/108, neurons to add: 18\n",
      "The grown model now has 15514 effective parameters.\n",
      "Validation after growing: Average loss: 0.0014, Accuracy: 5695/6000 (94.92%)\n",
      "Validation: Average loss: 0.0012, Accuracy: 5748/6000 (95.80%)\n",
      "Layer 0 score: 0.0714285746216774/8, neurons to add: 0\n",
      "Layer 1 score: 0.1428571492433548/16, neurons to add: 0\n",
      "Layer 2 score: 0.1428571492433548/16, neurons to add: 0\n",
      "Layer 3 score: 0.2589285969734192/126, neurons to add: 22\n",
      "The grown model now has 15514 effective parameters.\n",
      "Validation after growing: Average loss: 0.0012, Accuracy: 5748/6000 (95.80%)\n",
      "Validation: Average loss: 0.0012, Accuracy: 5727/6000 (95.45%)\n",
      "Layer 0 score: 0.0714285746216774/8, neurons to add: 0\n",
      "Layer 1 score: 0.1428571492433548/16, neurons to add: 0\n",
      "Layer 2 score: 0.1428571492433548/16, neurons to add: 0\n",
      "Layer 3 score: 0.2589285969734192/148, neurons to add: 26\n",
      "The grown model now has 15514 effective parameters.\n",
      "Validation after growing: Average loss: 0.0012, Accuracy: 5727/6000 (95.45%)\n",
      "Validation: Average loss: 0.0010, Accuracy: 5761/6000 (96.02%)\n",
      "Train Epoch: 0 [0/54000 (0%)]\tLoss: 0.107511\n",
      "Train Epoch: 0 [12800/54000 (24%)]\tLoss: 0.173648\n",
      "Train Epoch: 0 [25600/54000 (47%)]\tLoss: 0.188533\n",
      "Train Epoch: 0 [38400/54000 (71%)]\tLoss: 0.065241\n",
      "Train Epoch: 0 [51200/54000 (95%)]\tLoss: 0.032851\n",
      "Validation: Average loss: 0.0010, Accuracy: 5763/6000 (96.05%)\n",
      "Train Epoch: 1 [0/54000 (0%)]\tLoss: 0.095549\n",
      "Train Epoch: 1 [12800/54000 (24%)]\tLoss: 0.111798\n",
      "Train Epoch: 1 [25600/54000 (47%)]\tLoss: 0.055474\n",
      "Train Epoch: 1 [38400/54000 (71%)]\tLoss: 0.072040\n",
      "Train Epoch: 1 [51200/54000 (95%)]\tLoss: 0.095809\n",
      "Validation: Average loss: 0.0010, Accuracy: 5761/6000 (96.02%)\n",
      "Train Epoch: 2 [0/54000 (0%)]\tLoss: 0.049865\n",
      "Train Epoch: 2 [12800/54000 (24%)]\tLoss: 0.043355\n",
      "Train Epoch: 2 [25600/54000 (47%)]\tLoss: 0.163899\n",
      "Train Epoch: 2 [38400/54000 (71%)]\tLoss: 0.151547\n",
      "Train Epoch: 2 [51200/54000 (95%)]\tLoss: 0.141744\n",
      "Validation: Average loss: 0.0010, Accuracy: 5782/6000 (96.37%)\n",
      "----------------------\n",
      "Train accs:  [29.724074074074075, 83.56296296296296, 87.4574074074074, 90.28703703703704, 91.87962962962963, 92.50185185185185, 93.51296296296296, 94.10925925925926, 95.07962962962964, 95.01666666666667, 95.90555555555555, 95.81111111111112, 96.42962962962963, 96.33148148148148, 96.62222222222222, 96.76666666666667]\n",
      "Test accs:  [29.433333333333334, 83.68333333333334, 87.01666666666667, 90.45, 91.96666666666667, 92.5, 93.75, 94.21666666666667, 94.91666666666667, 94.91666666666667, 95.8, 95.45, 96.01666666666667, 96.05, 96.01666666666667, 96.36666666666666]\n"
     ]
    },
    {
     "data": {
      "image/png": "[encoded data removed]",
      "text/plain": [
       "<Figure size 640x480 with 1 Axes>"
      ]
     },
     "metadata": {},
     "output_type": "display_data"
    },
    {
     "name": "stdout",
     "output_type": "stream",
     "text": [
      "Layer 0 weight matrix after growth torch.Size([8, 1, 7, 7])\n",
      "Layer 1 weight matrix after growth torch.Size([16, 8, 7, 7])\n",
      "Layer 2 weight matrix after growth torch.Size([16, 16, 5, 5])\n",
      "Layer 3 weight matrix after growth torch.Size([174, 64])\n",
      "Layer 4 weight matrix after growth torch.Size([10, 174])\n",
      "The grown model now has 15514 effective parameters.\n",
      "Average loss: 0.0010, Accuracy: 5782/6000 (96.37%)\n"
     ]
    },
    {
     "data": {
      "text/plain": [
       "96.36666666666666"
      ]
     },
     "execution_count": 8,
     "metadata": {},
     "output_type": "execute_result"
    }
   ],
   "source": [
    "modded_model_grow = copy.deepcopy(model)\n",
    "modded_optimizer_grow = torch.optim.SGD(modded_model_grow.parameters(), lr=0.01)\n",
    "modded_optimizer_grow.load_state_dict(optimizer.state_dict())\n",
    "initial_scores = []\n",
    "\n",
    "for iter in range(12):\n",
    "    for i in range(len(modded_model_grow)-1):\n",
    "        # print(\"The size of activation of layer {}: {}\".format(i, modded_model_grow.activations[str(i)].shape))\n",
    "        # print(\"The size of my activation of layer {}: {}\".format(i, activation[str(i)].shape))\n",
    "        #score = orthogonality_gap(modded_model_grow.activations[str(i)])\n",
    "        max_rank = modded_model_grow[i].width()\n",
    "        # score = NORTH_score(modded_model_grow.activations[str(i)], batchsize=batch_size)\n",
    "        score = NORTH_score(activation[str(i)], batchsize=batch_size, threshold=epsilon)\n",
    "        # score = NORTH_score(modded_model_grow[i].weight, batchsize=batch_size)\n",
    "        if iter == 0:\n",
    "            initial_scores.append(score)\n",
    "        initScore = 0.97 * initial_scores[i]\n",
    "        to_add = max(0, int(modded_model_grow[i].weight.size()[0] * (score - initScore)))\n",
    "        print(\"Layer {} score: {}/{}, neurons to add: {}\".format(i, score, max_rank, to_add))\n",
    "\n",
    "        # \"iterative_orthogonalization\", \"kaiming_uniform\", and \"autoinit\" are the three options in function north_select, \"autoinit\" not working\n",
    "        # modded_model_grow.grow(i, to_add, fanin_weights=\"iterative_orthogonalization\", \n",
    "        #                        optimizer=modded_optimizer_grow)\n",
    "        modded_model_grow.grow(i, to_add, fanin_weights=\"kaiming_uniform\", \n",
    "                               optimizer=modded_optimizer_grow)\n",
    "        # modded_model_grow.grow(i, to_add, fanin_weights=\"autoinit\")\n",
    "       \n",
    "    print(\"The grown model now has {} effective parameters.\".format(modded_model_grow.parameter_count(masked = False)))\n",
    "    print(\"Validation after growing: \", end = \"\")\n",
    "    test(modded_model_grow, val_loader, criterion)\n",
    "    train_acc,test_acc = train(modded_model_grow, train_loader, modded_optimizer_grow, criterion, epochs=1, val_loader=val_loader, verbose=False)\n",
    "    train_accs += train_acc\n",
    "    test_accs += test_acc\n",
    "train_acc,test_acc = train(modded_model_grow, train_loader, modded_optimizer_grow, criterion, epochs=3, val_loader=val_loader)\n",
    "train_accs += train_acc\n",
    "test_accs += test_acc\n",
    "print(\"----------------------\")\n",
    "print('Train accs: ', train_accs)\n",
    "print('Test accs: ', test_accs)\n",
    "plt.plot(epochs, train_accs, label='Training Accuracy', color='blue')\n",
    "plt.plot(epochs, test_accs, label='Testing Accuracy', color='purple')\n",
    "plt.title('Accuracy')\n",
    "plt.xlabel('Epoch')\n",
    "plt.ylabel('Value')\n",
    "plt.ylim(0, 100)\n",
    "plt.legend()\n",
    "plt.show()\n",
    "\n",
    "\n",
    "for j in range(len(modded_model_grow)):\n",
    "    print(\"Layer {} weight matrix after growth {}\".format(j, modded_model_grow[j].weight.size()))\n",
    "print(\"The grown model now has {} effective parameters.\".format(modded_model_grow.parameter_count(masked = False)))\n",
    "test(modded_model_grow, val_loader, criterion)"
   ]
  },
  {
   "cell_type": "code",
   "execution_count": 8,
   "metadata": {},
   "outputs": [
    {
     "data": {
      "text/plain": [
       "tensor(0.2500, device='cuda:1')"
      ]
     },
     "execution_count": 8,
     "metadata": {},
     "output_type": "execute_result"
    }
   ],
   "source": [
    "NORTH_score(activation[str(i)], batchsize=batch_size, threshold=epsilon)"
   ]
  },
  {
   "cell_type": "code",
   "execution_count": 9,
   "metadata": {},
   "outputs": [
    {
     "name": "stdout",
     "output_type": "stream",
     "text": [
      "torch.Size([112, 8, 10, 10])\n",
      "torch.Size([112, 16, 6, 6])\n",
      "torch.Size([112, 16, 2, 2])\n"
     ]
    }
   ],
   "source": [
    "print(activation[str(0)].shape)\n",
    "print(activation[str(1)].shape)\n",
    "print(activation[str(2)].shape)"
   ]
  },
  {
   "cell_type": "code",
   "execution_count": 10,
   "metadata": {},
   "outputs": [],
   "source": [
    "# train(modded_model_grow, train_loader, modded_optimizer_grow, criterion, epochs=1, val_loader=val_loader)"
   ]
  },
  {
   "cell_type": "code",
   "execution_count": 11,
   "metadata": {},
   "outputs": [],
   "source": [
    "modded_model_grow.grow(2, 2, fanin_weights=\"kaiming_uniform\", \n",
    "                               optimizer=modded_optimizer_grow)"
   ]
  },
  {
   "cell_type": "code",
   "execution_count": 12,
   "metadata": {},
   "outputs": [
    {
     "name": "stdout",
     "output_type": "stream",
     "text": [
      "Layer 0 weight matrix after growth torch.Size([8, 1, 7, 7])\n",
      "Layer 1 weight matrix after growth torch.Size([16, 8, 7, 7])\n",
      "Layer 2 weight matrix after growth torch.Size([18, 16, 5, 5])\n",
      "Layer 3 weight matrix after growth torch.Size([83, 72])\n",
      "Layer 4 weight matrix after growth torch.Size([10, 83])\n",
      "The grown model now has 15514 effective parameters.\n"
     ]
    }
   ],
   "source": [
    "for j in range(len(modded_model_grow)):\n",
    "    print(\"Layer {} weight matrix after growth {}\".format(j, modded_model_grow[j].weight.size()))\n",
    "print(\"The grown model now has {} effective parameters.\".format(modded_model_grow.parameter_count(masked = False)))"
   ]
  },
  {
   "cell_type": "code",
   "execution_count": null,
   "metadata": {},
   "outputs": [],
   "source": []
  }
 ],
 "metadata": {
  "kernelspec": {
   "display_name": ".venv",
   "language": "python",
   "name": "python3"
  },
  "language_info": {
   "codemirror_mode": {
    "name": "ipython",
    "version": 3
   },
   "file_extension": ".py",
   "mimetype": "text/x-python",
   "name": "python",
   "nbconvert_exporter": "python",
   "pygments_lexer": "ipython3",
   "version": "3.11.2"
  }
 },
 "nbformat": 4,
 "nbformat_minor": 2
}
